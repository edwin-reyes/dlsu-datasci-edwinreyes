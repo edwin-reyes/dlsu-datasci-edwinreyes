{
 "cells": [
  {
   "cell_type": "markdown",
   "metadata": {},
   "source": [
    "# Hands-on: Data Visualization with `matplotlib`\n",
    "\n",
    "This hands-on will allow you to practice reading in and exploring data, as well as using basic visualization to easily see the distribution, patterns and trends and other interesting things that might arise from the dataset.\n",
    "\n",
    "The main library to be used will be `matplotlib`. We'll cover the basic plotting functions first then proceed with exploring the dataset and applying the concepts from the lecture. \n",
    "\n",
    "`matplotlib can` be used in \"interactive\" mode through Jupyter notebooks. To activate this function, simply include the line `%matplotlib inline` in your notebook after importing `pyplot` from `matplotlib`.\n",
    "\n",
    "<hr>\n",
    "\n",
    "An alternate library for plotting with different styling is `seaborn`. But `seaborn` is built on top of `matplotlib` with prettier default styles and other \"off-the-shelf\" type visualizations. \n",
    "\n",
    "To know more about these two libraries and maximize their gallery samples, you can visit their documentation pages:\n",
    "* [`matplotlib` Documentation](https://matplotlib.org/)\n",
    "* [`seaborn` Documentation](https://seaborn.pydata.org/)"
   ]
  },
  {
   "cell_type": "code",
   "execution_count": null,
   "metadata": {},
   "outputs": [],
   "source": [
    "import numpy as np\n",
    "import pandas as pd\n",
    "import matplotlib.pyplot as plt\n",
    "import seaborn as sns\n",
    "\n",
    "%matplotlib inline"
   ]
  },
  {
   "cell_type": "markdown",
   "metadata": {},
   "source": [
    "Before we get into learning some stuff, lets set up the `style` of our plots. Starting from Matplotlib v1.5, you have many different plotting `styles` to chose from. To get all the list of supported ones, run \n",
    "```ipython\n",
    "plt.style.available\n",
    "```\n",
    "\n",
    "Or check out the gallery [here](https://matplotlib.org/3.1.1/gallery/style_sheets/style_sheets_reference.html).\n",
    "\n",
    "To be able to change the `style` that Matplotlib comes with for all of your plots, simply call\n",
    "\n",
    "```ipython\n",
    "plt.style.use('seaborn-whitegrid')\n",
    "```"
   ]
  },
  {
   "cell_type": "code",
   "execution_count": null,
   "metadata": {},
   "outputs": [],
   "source": [
    "plt.style.use('seaborn-whitegrid')"
   ]
  },
  {
   "cell_type": "markdown",
   "metadata": {},
   "source": [
    "## Parts of a Plot (in `matplotlib`)\n",
    "Before we begin applying the visualization techniques, we first need to know how charts or **figures** are made in `matplotlib`.\n",
    "\n",
    "### 01. Figures\n",
    "\n",
    "All plotting are done through the `Figure` object. They serve as the _canvas_ of your plot. You can create as many figures as you need but a `Figure` is mandatory for any plotting to happen.\n",
    "\n",
    "#### Figure Properties\n",
    "- ##### figsize : \n",
    "tuple of integers, width, height in inches.   \n",
    "- ##### dpi : \n",
    "integer, resolution of the figure in dots per inch."
   ]
  },
  {
   "cell_type": "code",
   "execution_count": null,
   "metadata": {},
   "outputs": [],
   "source": [
    "fig = plt.figure(figsize=(10, 5))\n",
    "\n",
    "# To plot, we just call plot()\n",
    "plt.plot()\n",
    "plt.savefig('blankplot.png')"
   ]
  },
  {
   "cell_type": "markdown",
   "metadata": {},
   "source": [
    "You may also save the figure generated using the function `plt.savefig(<file_name>)`. The default format saved is `png`. There are many other formats supported. To get a list of all the formats, you can use this function: `fig.canvas.get_supported_filetypes()`"
   ]
  },
  {
   "cell_type": "markdown",
   "metadata": {},
   "source": [
    "### 02. Axes\n",
    "\n",
    "We can see from above that `matplotlib` automatically creates the axes for us in a figure. An `Axes` object contains [`Axis`](http://matplotlib.org/api/axis_api.html#matplotlib.axis.Axis) objects (and many other things) and it belongs to just one `Figure`. "
   ]
  },
  {
   "cell_type": "code",
   "execution_count": null,
   "metadata": {},
   "outputs": [],
   "source": [
    "fig = plt.figure(figsize=(10,5))\n",
    "ax = fig.add_subplot(111)\n",
    "\n",
    "theta = np.linspace(-np.pi, np.pi, 100)\n",
    "plt.plot(theta, np.sin(theta))"
   ]
  },
  {
   "cell_type": "markdown",
   "metadata": {},
   "source": [
    "```ipython\n",
    "fig.add_subplot(numrows numcols fignum)\n",
    "```\n",
    "> `fignum` ranges from 1 to numrows*numcols.\n",
    "\n",
    "> Each figure can have as many axes and subplots as needed. See the [`Figure` class documentation](https://matplotlib.org/3.1.1/api/_as_gen/matplotlib.figure.Figure.html) for more details.\n",
    "\n",
    "If you want to place an axes manually, i.e., not on a rectangular grid, use the [`axes()` command](https://matplotlib.org/3.1.1/api/_as_gen/matplotlib.pyplot.axes.html)."
   ]
  },
  {
   "cell_type": "markdown",
   "metadata": {},
   "source": [
    "### 03. Limits and Autoscaling\n",
    "\n",
    "Looking at the plot above, we see that the axes only show the values from the data. By default, `matplotlib` will attempt to determine limits that encompasses all the data provided.  This is the **autoscale** feature. \n",
    "\n",
    "To set the limit we can call `set_xlim([lower_bound, upper_bound])` and `set_ylim([lower_bound, upper_bound])` from the `Axes` object."
   ]
  },
  {
   "cell_type": "code",
   "execution_count": null,
   "metadata": {},
   "outputs": [],
   "source": [
    "fig = plt.figure(figsize=(10,5))\n",
    "ax = fig.add_subplot(111)\n",
    "\n",
    "theta = np.linspace(-np.pi, np.pi, 100)\n",
    "plt.plot(theta, np.sin(theta))\n",
    "\n",
    "# Set the limit to the x values\n",
    "ax.set_xlim([-np.pi, np.pi/2])"
   ]
  },
  {
   "cell_type": "markdown",
   "metadata": {},
   "source": [
    "### 04. Labels and Legends\n",
    "\n",
    "You can provide a label to your data series that will allow `matplotlib` to automatically build the legend for the plot. `x` and `y` axes may also be labeled using `set_xlabel()` and `set_ylabel()`. A title may also be provided to the subplot through the `set_title()` function."
   ]
  },
  {
   "cell_type": "code",
   "execution_count": null,
   "metadata": {},
   "outputs": [],
   "source": [
    "fig = plt.figure(figsize=(10,5))\n",
    "ax = fig.add_subplot(111)\n",
    "\n",
    "theta = np.linspace(-np.pi, np.pi, 100)\n",
    "plt.plot(theta, np.sin(theta), label='Some data')\n",
    "\n",
    "# Set the limit to the x values\n",
    "ax.set_xlim([-np.pi, np.pi/2])\n",
    "ax.set_xlabel(\"x\")\n",
    "ax.set_ylabel(\"y\")\n",
    "ax.set_title(\"Sine curve\")\n",
    "ax.legend(); # This shows the legend (label)"
   ]
  },
  {
   "cell_type": "markdown",
   "metadata": {},
   "source": [
    "### Customizing the plot design\n",
    "\n",
    "In case you do not like the default styles provided, `matplotlib` also allows you to pass a custom **style sheet** or customize it directly using the `rcParams` object. [Reference](https://matplotlib.org/3.3.1/tutorials/introductory/customizing.html)\n",
    "\n",
    "Below is a sample code snippet which changes the text color of plots.\n",
    "\n",
    "```\n",
    "textColor = '#3c3c3c'\n",
    "highlightColor = '#3b738f'\n",
    "plt.rcParams['text.color'] = textColor\n",
    "plt.rcParams['axes.labelcolor'] = highlightColor\n",
    "plt.rcParams['xtick.color'] = textColor\n",
    "plt.rcParams['ytick.color'] = textColor\n",
    "```\n",
    "\n",
    "This changes the color of the general text and the ticks to <span style=\"color: #3c3c3c; font-weight: bold;\">gray</span> and the labels of the axes to <span style=\"color: #3b738f; font-weight: bold;\">teal</span>."
   ]
  },
  {
   "cell_type": "code",
   "execution_count": null,
   "metadata": {},
   "outputs": [],
   "source": [
    "textColor = '#3c3c3c'\n",
    "highlightColor = '#3b738f'\n",
    "plt.rcParams['text.color'] = textColor\n",
    "plt.rcParams['axes.labelcolor'] = highlightColor\n",
    "plt.rcParams['xtick.color'] = textColor\n",
    "plt.rcParams['ytick.color'] = textColor\n",
    "\n",
    "plt.rcParams['axes.titlesize'] = 20\n",
    "plt.rcParams['axes.labelsize'] = 16\n",
    "plt.rcParams['xtick.labelsize'] = 14\n",
    "plt.rcParams['ytick.labelsize'] = 14"
   ]
  },
  {
   "cell_type": "markdown",
   "metadata": {},
   "source": [
    "## Exercise\n",
    "\n",
    "Now, let's try working on a dataset and see how we can apply the data processing methods and visualization methods above to this dataset.\n",
    "\n",
    "The Kaggle Titanic Dataset may be found here: https://www.kaggle.com/c/titanic/data\n",
    "\n",
    "You would need to login to Kaggle to download the data."
   ]
  },
  {
   "cell_type": "code",
   "execution_count": null,
   "metadata": {},
   "outputs": [],
   "source": [
    "titanic = pd.read_csv('titanic.csv')\n",
    "titanic.head()"
   ]
  },
  {
   "cell_type": "markdown",
   "metadata": {},
   "source": [
    "### Data Dictionary\n",
    "\n",
    "As taken from Kaggle: \n",
    "\n",
    "| Variable  | Definition                               | Key                                            |\n",
    "| --------- | ---------------------------------------- | ---------------------------------------------- |\n",
    "| survival  | Survival                                 | 0 = No, 1 = Yes                                |\n",
    "| pclass    | Ticket class                             | 1 = 1st, 2 = 2nd, 3 = 3rd                      |\n",
    "| sex       | Sex                                      |                                                |\n",
    "| Age       | Age in years                             |                                                |\n",
    "| sibsp     | # of siblings/spouses aboard the Titanic |                                                |\n",
    "| parch     | # of parents/children aboard the Titanic |                                                |\n",
    "| ticket    | Ticket number                            |                                                |\n",
    "| fare      | Passenger fare                           |                                                |\n",
    "| cabin     | Cabin number                             |                                                |\n",
    "| embarked  | Port of Embarkation                      | C = Cherbourg, Q = Queenstown, S = Southampton |"
   ]
  },
  {
   "cell_type": "markdown",
   "metadata": {},
   "source": [
    "### Let's begin exploring the data...\n",
    "\n",
    "* How many rows and columns do we have? \n",
    "* What is the data type of each column? \n",
    "* What is the most common value? Mean? Standard deviation?\n",
    "* Are there any missing values?\n",
    "* How do you want to handle the missing values? Remove them? Replace with an arbitrary value?"
   ]
  },
  {
   "cell_type": "code",
   "execution_count": null,
   "metadata": {},
   "outputs": [],
   "source": [
    "# how many rows & columns?\n",
    "titanic.shape"
   ]
  },
  {
   "cell_type": "code",
   "execution_count": null,
   "metadata": {},
   "outputs": [],
   "source": [
    "# to get the data types of each column, you can also use df.info()\n",
    "# this also provides you also the non-null counts per column\n",
    "titanic.info()"
   ]
  },
  {
   "cell_type": "code",
   "execution_count": null,
   "metadata": {},
   "outputs": [],
   "source": [
    "# or just the data types\n",
    "titanic.dtypes"
   ]
  },
  {
   "cell_type": "code",
   "execution_count": null,
   "metadata": {},
   "outputs": [],
   "source": [
    "titanic.describe()"
   ]
  },
  {
   "cell_type": "code",
   "execution_count": null,
   "metadata": {},
   "outputs": [],
   "source": [
    "# Are there any missing values?\n",
    "titanic.isna().sum()"
   ]
  },
  {
   "cell_type": "code",
   "execution_count": null,
   "metadata": {},
   "outputs": [],
   "source": [
    "# How do you want to handle the missing values? Remove them? Replace with an arbitrary value?\n",
    "# This step is up to you and your analysis -- or more specifically, what you would need to analyze."
   ]
  },
  {
   "cell_type": "markdown",
   "metadata": {},
   "source": [
    "### Visualizations\n",
    "\n",
    "In the next section, we'll try to visualize the data so that we can see it better. Since we have over 800 observations, using charts will help us \"see\" better.\n",
    "\n",
    "Also, based on our knowledge of what happened in Titanic, let's see if the data and our pre-existing knowledge are aligned.\n",
    "\n",
    "#### Verification Checklist\n",
    "\n",
    "1. There were a lot of people who died from the Titanic. **How many died and how many survived?**\n",
    "2. While evacuating the ship, they prioritized women and children, and also some elderly people. To confirm these, we ask the following:\n",
    "    - What is the distrubution of the ages of the people onboard the Titanic?\n",
    "    - Compare the distribution of the ages of the people who survived and those who died. Can you see a difference in the distribution?\n",
    "    - How many men and women were aboard the Titanic?\n",
    "    - How many of the men and how many of the women survived and died?\n",
    "3. One thing depicted in the movies was the wealthy passengers were also prioritized during the evacuation of the ship. Can we also confirm this by looking at the number of people per passenger class that survived against those who died?"
   ]
  },
  {
   "cell_type": "markdown",
   "metadata": {},
   "source": [
    "#### How many people survived? How many did not?"
   ]
  },
  {
   "cell_type": "code",
   "execution_count": null,
   "metadata": {},
   "outputs": [],
   "source": [
    "titanic['Survived'].value_counts()"
   ]
  },
  {
   "cell_type": "code",
   "execution_count": null,
   "metadata": {},
   "outputs": [],
   "source": [
    "titanic['Survived'].value_counts().plot()"
   ]
  },
  {
   "cell_type": "markdown",
   "metadata": {},
   "source": [
    "### Note on plotting directly with `pandas`\n",
    "\n",
    "Since `pandas` integrates the functions of `matplotlib` too, there is a shortcut! You can directly plot a `DataFrame` or a `Series` by simply calling `plot()`. The default would be as shown above which is a **line plot**.\n",
    "\n",
    "Calling the `df.plot()` function returns an `Axes` object which we can assign to a variable to set the title and the labels. _(Remember, it's important to always label your plots!!)_"
   ]
  },
  {
   "cell_type": "code",
   "execution_count": null,
   "metadata": {},
   "outputs": [],
   "source": [
    "ax = titanic['Survived'].value_counts().plot(kind='bar')"
   ]
  },
  {
   "cell_type": "markdown",
   "metadata": {},
   "source": [
    "### Default `pandas` plot changed to bar chart\n",
    "\n",
    "To change the type of plot associated to `pandas`, we can specify the type of the chart using the `kind` argument.\n",
    "\n",
    "But in its current state, the readers won't know what 0 and 1 represents and what the numbers on the y-axis represent. So we need to label our plot."
   ]
  },
  {
   "cell_type": "code",
   "execution_count": null,
   "metadata": {},
   "outputs": [],
   "source": [
    "# here we specify the figure size as well to make it follow an aspect ratio we like\n",
    "# the colors can also be set together with any other options for making the chart look \"pretty\"\n",
    "ax = titanic['Survived'].value_counts().plot(figsize=(8, 6), kind='bar', color=['#999999', '#68abb8'], width=0.5)\n",
    "\n",
    "ax.set_xticklabels(['Died', 'Survived'], rotation=0)\n",
    "ax.set_title('Titanic Passenger Count by Survival')\n",
    "ax.set_ylabel('No. of Passengers');"
   ]
  },
  {
   "cell_type": "markdown",
   "metadata": {},
   "source": [
    "### Figure 1. Titanic Passenger Survival\n",
    "\n",
    "Based on the data, we can see that more people died from the Titanic than those who survived. Out of the 800+ passengers, only a little bit over 300 passengers are alive."
   ]
  },
  {
   "cell_type": "markdown",
   "metadata": {},
   "source": [
    "#### What is the distribution of the age of the passengers?"
   ]
  },
  {
   "cell_type": "code",
   "execution_count": null,
   "metadata": {},
   "outputs": [],
   "source": [
    "titanic['Age'].hist(bins=20, edgecolor='w')"
   ]
  },
  {
   "cell_type": "markdown",
   "metadata": {},
   "source": [
    "### Histograms\n",
    "\n",
    "To generate the distribution of a specific column in a `pandas` `DataFrame`, you can simply select the column with a numerical value and call `hist()`. You can adjust the bin size and colors according to your liking."
   ]
  },
  {
   "cell_type": "code",
   "execution_count": null,
   "metadata": {},
   "outputs": [],
   "source": [
    "ax = titanic['Age'].hist(bins=20, edgecolor='w', color='#c8586c',  figsize=(10, 5))\n",
    "\n",
    "# Here you can override the colors of set using rcParams by simply passing a value for the arguments.\n",
    "ax.set_title('Distribution of Titanic Passengers According to Age',color='#c8586c', fontweight='bold')\n",
    "ax.set_xlabel('Age', color='#c8586c')\n",
    "ax.set_ylabel('No. of Passengers', color='#c8586c');\n",
    "\n",
    "# To remove the spines of the chart manually, you can choose to set the visibility to False\n",
    "ax.spines['right'].set_visible(False)\n",
    "ax.spines['top'].set_visible(False)\n",
    "ax.xaxis.grid(False)"
   ]
  },
  {
   "cell_type": "markdown",
   "metadata": {},
   "source": [
    "### Figure 2. Distribution of Titanic Passengers According to Age\n",
    "\n",
    "Based on the descriptive stats and the check for null values above, there are passengers with no age. They are not included in this figure.\n",
    "\n",
    "We can see that the peak is somewhere around 20 to mid-20s and therre are some really old people aboard the ship too.\n",
    "\n",
    "There seems to a lot of children too, specially those below 10 years old."
   ]
  },
  {
   "cell_type": "markdown",
   "metadata": {},
   "source": [
    "<hr>\n",
    "\n",
    "To better visualize the \"average\" age, let's try adding the `mean` and `median` of the age distribution using \n",
    "\n",
    "```ipython\n",
    "ax.axvline(x=value)\n",
    "```"
   ]
  },
  {
   "cell_type": "code",
   "execution_count": null,
   "metadata": {},
   "outputs": [],
   "source": [
    "ax = titanic['Age'].hist(bins=20, edgecolor='w', color='#f5ba98',  figsize=(10, 5))\n",
    "\n",
    "# Here you can override the colors of set using rcParams by simply passing a value for the arguments.\n",
    "ax.set_title('Distribution of Titanic Passengers According to Age', color='#c8586c', fontweight='bold')\n",
    "ax.set_xlabel('Age', color='#c8586c')\n",
    "ax.set_ylabel('No. of Passengers', color='#c8586c');\n",
    "\n",
    "# To remove the spines of the chart manually, you can choose to set the visibility to False\n",
    "ax.spines['right'].set_visible(False)\n",
    "ax.spines['top'].set_visible(False)\n",
    "ax.xaxis.grid(False)\n",
    "\n",
    "ax.axvline(x=titanic['Age'].mean(), color='#70284a', linestyle='--', label='mean')\n",
    "ax.axvline(x=titanic['Age'].median(), color='#dc7176', linewidth=4, label='median')\n",
    "ax.legend(fontsize=14);\n"
   ]
  },
  {
   "cell_type": "markdown",
   "metadata": {},
   "source": [
    "### Figure 3. Distribution of Titanic Passengers According to Age (with mean & median lines)\n",
    "\n",
    "This is basically the same plot as Figure 2 but wuth some \"threshold\" or marker set for the mean and the median."
   ]
  },
  {
   "cell_type": "markdown",
   "metadata": {},
   "source": [
    "## Exploratory Analysis\n",
    "\n",
    "The previous questions were concerned with just one variable. Let's try to visualize the data with more than just one variable."
   ]
  },
  {
   "cell_type": "markdown",
   "metadata": {},
   "source": [
    "#### What is the distribution of the age of those who survived and those who didn't? \n",
    "\n",
    "From the comparative visualization of the two distributions, can you spot a difference?"
   ]
  },
  {
   "cell_type": "code",
   "execution_count": null,
   "metadata": {},
   "outputs": [],
   "source": [
    "survived = titanic.loc[titanic['Survived'] == 1]\n",
    "died = titanic.loc[titanic['Survived'] == 0]"
   ]
  },
  {
   "cell_type": "code",
   "execution_count": null,
   "metadata": {},
   "outputs": [],
   "source": [
    "axes_object = survived['Age'].hist(bins=20, alpha=0.8, color='#68abb8', label='Survived', figsize=(10, 5))\n",
    "\n",
    "# To make overlapping plots, you can simply reuse the same `Axes` object.\n",
    "# We can also adjust the opacity or the alpha channel by specifying a value less than 1.\n",
    "died['Age'].hist(ax=axes_object, bins=20, alpha=0.5, color='#999999', label='Died')\n",
    "\n",
    "axes_object.set_title('Distribution of Titanic Passengers According to Age and Survival', fontsize=20)\n",
    "axes_object.set_xlabel('Age', fontsize=16)\n",
    "axes_object.set_ylabel('Frequency', fontsize=16)\n",
    "axes_object.legend(fontsize=14);"
   ]
  },
  {
   "cell_type": "markdown",
   "metadata": {},
   "source": [
    "### Figure 4. Distribution of Titanic Passenger Age (according to survival status)\n",
    "\n",
    "Overlapping distributions of the passenger age according to their survival status.\n",
    "\n",
    "Overlapping the histograms doesn't really give us a good view."
   ]
  },
  {
   "cell_type": "code",
   "execution_count": null,
   "metadata": {},
   "outputs": [],
   "source": [
    "# Here we create a figure to hold 2 side by side (juxtaposed) plots\n",
    "fig = plt.figure(figsize=(15, 6))\n",
    "\n",
    "# adding a subplot manually, we need to specify the row, columns, index of plot\n",
    "ax = fig.add_subplot(1,2,1)\n",
    "\n",
    "survived['Age'].hist(ax=ax, bins=20, edgecolor='w', color='#68abb8')\n",
    "ax.set_title('Surviving Passengers Age Distribution', fontsize=18)\n",
    "ax.set_xlabel('Age', fontsize=14)\n",
    "ax.set_ylabel('No. of Passengers', fontsize=14)\n",
    "ax.set_ylim([0, 58]) # setting the same limit for both plots\n",
    "ax.spines['right'].set_visible(False)\n",
    "ax.spines['top'].set_visible(False)\n",
    "ax.xaxis.grid(False)\n",
    "\n",
    "# adding a subplot manually, we need to specify the row, columns, index of plot\n",
    "ax2 = fig.add_subplot(1,2,2)\n",
    "\n",
    "died['Age'].hist(ax=ax2, bins=20, edgecolor='w', color='#999999')\n",
    "ax2.set_title('Dead Passengers Age Distribution', fontsize=18)\n",
    "ax2.set_xlabel('Age', fontsize=14)\n",
    "ax2.set_ylabel('No. of Passengers', fontsize=14)\n",
    "ax2.set_ylim([0, 58]) # setting the same limit for both plots\n",
    "ax2.spines['right'].set_visible(False)\n",
    "ax2.spines['top'].set_visible(False)\n",
    "ax2.xaxis.grid(False)\n",
    "\n",
    "plt.tight_layout() # this adjusts and makes the figures fit in the frame \"tightly\""
   ]
  },
  {
   "cell_type": "markdown",
   "metadata": {},
   "source": [
    "### Figure 5. Side-by-side comparison of the distribution of passenger age (survived vs died)\n",
    "\n",
    "By putting the histogram side by side, we can now see the distribution of the passengers that survived and compare that with the passengers that died.\n",
    "\n",
    "**Based on your observations, what can you notice or deduce just by looking at the distributions?**"
   ]
  },
  {
   "cell_type": "code",
   "execution_count": null,
   "metadata": {},
   "outputs": [],
   "source": [
    "# What about the gender of the passengers? How many survived per gender?\n",
    "\n",
    "bygender = titanic.groupby('Survived')['Sex'].value_counts().unstack()\n",
    "bygender"
   ]
  },
  {
   "cell_type": "code",
   "execution_count": null,
   "metadata": {},
   "outputs": [],
   "source": [
    "male = bygender['male']\n",
    "female = bygender['female']"
   ]
  },
  {
   "cell_type": "code",
   "execution_count": null,
   "metadata": {},
   "outputs": [],
   "source": [
    "fig = plt.figure(figsize=(8, 5))\n",
    "ax = fig.add_subplot(111)\n",
    "\n",
    "ax.bar(male.index, male, color='#009392', alpha=0.5, width=0.5)\n",
    "ax.bar(female.index, female, color='#d0587e', alpha=0.5, width=0.5)\n",
    "ax.set_xticks([0, 1])\n",
    "ax.set_xticklabels(['Died', 'Survived']);"
   ]
  },
  {
   "cell_type": "markdown",
   "metadata": {},
   "source": [
    "### 2 keys, 1 quantitative value — we can use a stacked bar chart!\n",
    "\n",
    "But in this case, we've plotted the bars manually and they're not stacked yet. Which is why we've used `alpha` to adjust the opacity so we can see through each element first."
   ]
  },
  {
   "cell_type": "code",
   "execution_count": null,
   "metadata": {},
   "outputs": [],
   "source": [
    "fig = plt.figure(figsize=(8, 5))\n",
    "ax = fig.add_subplot(111)\n",
    "\n",
    "ax.bar(male.index, male, color='#009392', width=0.5, label='Male')\n",
    "\n",
    "# To stack them on top of one another, we can use the argument bottom\n",
    "ax.bar(female.index, female, bottom=male, color='#d0587e', width=0.5, label='Female')\n",
    "\n",
    "ax.set_xticks([0, 1])\n",
    "ax.set_xticklabels(['Died', 'Survived'], fontsize=14)\n",
    "ax.set_title('Passengers by Gender and Survival', fontsize=18)\n",
    "ax.set_xlabel('Status', fontsize=14)\n",
    "ax.set_ylabel('No. of Passengers', fontsize=14)\n",
    "ax.legend(fontsize=14);"
   ]
  },
  {
   "cell_type": "markdown",
   "metadata": {},
   "source": [
    "### Figure 6. Stacked Bar Chart of Passengers by Gender & Status\n",
    "\n",
    "This now shows the part-to-whole relationship of the dead and surviving passengers according to gender."
   ]
  },
  {
   "cell_type": "code",
   "execution_count": null,
   "metadata": {},
   "outputs": [],
   "source": [
    "fig = plt.figure(figsize=(8, 5))\n",
    "ax = fig.add_subplot(111)\n",
    "\n",
    "ax.bar(male.index, male/(male+female)*100, color='#009392', label='Male', width=0.5)\n",
    "ax.bar(female.index, female/(male+female)*100, bottom=male/(male+female)*100, color='#d0587e', label='Female', width=0.5)\n",
    "ax.set_xticks([0, 1])\n",
    "ax.set_xticklabels(['Died', 'Survived'])\n",
    "ax.set_title('Passengers by Gender and Survival', fontsize=18)\n",
    "ax.set_xlabel('Status', fontsize=14)\n",
    "ax.set_ylabel('Percentage of Passengers', fontsize=14);"
   ]
  },
  {
   "cell_type": "markdown",
   "metadata": {},
   "source": [
    "### Figure 7. Normalized Stacked Bar Chart of Passengers by Gender & Status\n",
    "\n",
    "Here, the values arer normalized over the total number of passengers multiplied by 100 to get the percentage of passengers per gender per status."
   ]
  },
  {
   "cell_type": "markdown",
   "metadata": {},
   "source": [
    "<hr>\n",
    "\n",
    "An alternative way to plot the bar charts is directly through `pandas`.\n",
    "\n",
    "We'll use the Survival & Passenger Class as the keys for this example."
   ]
  },
  {
   "cell_type": "code",
   "execution_count": null,
   "metadata": {},
   "outputs": [],
   "source": [
    "byclass = titanic.groupby('Survived')['Pclass'].value_counts().unstack()\n",
    "byclass"
   ]
  },
  {
   "cell_type": "code",
   "execution_count": null,
   "metadata": {},
   "outputs": [],
   "source": [
    "ax = byclass.plot(kind='bar', figsize=(8, 5), color=['#6cc08b','#217a79','#074050'])\n",
    "\n",
    "ax.set_title('Titanic Passengers by Class and Survival', fontsize=20)\n",
    "ax.set_xticklabels(['Died', 'Survived'], rotation=0, fontsize=15)\n",
    "ax.set_xlabel('')\n",
    "ax.set_ylabel('No. of Passengers', fontsize=15);"
   ]
  },
  {
   "cell_type": "markdown",
   "metadata": {},
   "source": [
    "### Grouped Bar Chart\n",
    "\n",
    "By default, if we have 2 keys and 1 value like a pivot table and we pass `kind='bar'` for the plot type, it creates a grouped bar chart as seen above."
   ]
  },
  {
   "cell_type": "code",
   "execution_count": null,
   "metadata": {},
   "outputs": [],
   "source": [
    "ax = byclass.plot(kind='bar', stacked=True, figsize=(8, 5), color=['#6cc08b','#217a79','#074050'])\n",
    "\n",
    "ax.set_title('Titanic Passengers by Class and Survival', fontsize=20)\n",
    "ax.set_xticklabels(['Died', 'Survived'], rotation=0, fontsize=15)\n",
    "ax.set_xlabel('')\n",
    "ax.set_ylabel('No. of Passengers', fontsize=15);"
   ]
  },
  {
   "cell_type": "markdown",
   "metadata": {},
   "source": [
    "### Stacked Bar Chart\n",
    "To turn it into a stacked bar chart, we simply pass the argument `stacked=True`."
   ]
  },
  {
   "cell_type": "code",
   "execution_count": null,
   "metadata": {},
   "outputs": [],
   "source": [
    "# df.T transposes the dataframe (if you recall your matrix functions... ^^,)\n",
    "\n",
    "byclass.T "
   ]
  },
  {
   "cell_type": "code",
   "execution_count": null,
   "metadata": {},
   "outputs": [],
   "source": [
    "byclass.T / byclass.sum(axis=1)"
   ]
  },
  {
   "cell_type": "markdown",
   "metadata": {},
   "source": [
    "Here we calculate the percentages of each category..."
   ]
  },
  {
   "cell_type": "code",
   "execution_count": null,
   "metadata": {},
   "outputs": [],
   "source": [
    "(byclass.T / byclass.sum(axis=1)).sum()"
   ]
  },
  {
   "cell_type": "markdown",
   "metadata": {},
   "source": [
    "And as a sanity check, we see if the total is 1.0 (100%)"
   ]
  },
  {
   "cell_type": "code",
   "execution_count": null,
   "metadata": {},
   "outputs": [],
   "source": [
    "data = byclass.T / byclass.sum(axis=1) * 100\n",
    "ax = data.T.plot(kind='bar', stacked=True, figsize=(8, 5), color=['#6cc08b','#217a79','#074050'])\n",
    "\n",
    "ax.set_title('Titanic Passengers by Class and Survival', fontsize=20)\n",
    "ax.set_xticklabels(['Died', 'Survived'], rotation=0, fontsize=15)\n",
    "ax.set_xlabel('')\n",
    "ax.set_ylabel('Percentage of Passengers', fontsize=15)\n",
    "ax.spines['right'].set_visible(False)\n",
    "ax.spines['top'].set_visible(False)\n",
    "ax.xaxis.grid(False);"
   ]
  },
  {
   "cell_type": "markdown",
   "metadata": {},
   "source": [
    "Lastly, let's try making a scatter plot... But in this dataset, it's not really logical to comparer the age and the fare."
   ]
  },
  {
   "cell_type": "code",
   "execution_count": null,
   "metadata": {},
   "outputs": [],
   "source": [
    "fig = plt.figure(figsize=(12,6))\n",
    "\n",
    "ax = fig.add_subplot(111)\n",
    "\n",
    "# by setting the format of the plot to 'o' or '.', it automatically changes the plot from a line to a scatter plot\n",
    "ax.plot(titanic['Age'], titanic['Fare'], 'o', ms=10, alpha=0.4)\n",
    "ax.set_xlabel('Age', fontsize=16)\n",
    "ax.set_ylabel('Fare', fontsize=16)\n",
    "ax.set_title('Age vs Fare of Titanic Passengers', fontsize=20);"
   ]
  },
  {
   "cell_type": "markdown",
   "metadata": {},
   "source": [
    "### Figure 8. Scatter plot of Age vs Fare of the Titanic Passengers\n",
    "\n",
    "This shows the relationship of the age and the fare of the Titanic passengers. Therre's a few passengers that paid over 500 dollars to board the ship! This may be correct (which makes it a very special outlier) or it could be an anomaly...?"
   ]
  },
  {
   "cell_type": "code",
   "execution_count": null,
   "metadata": {},
   "outputs": [],
   "source": [
    "fig = plt.figure(figsize=(12,6))\n",
    "\n",
    "ax = fig.add_subplot(111)\n",
    "\n",
    "titanic.plot.scatter(ax=ax, x='Age', y='Fare', c='Pclass', cmap='viridis', s=50, alpha=0.7)\n",
    "ax.set_xlabel('Age', fontsize=16)\n",
    "ax.set_ylabel('Fare', fontsize=16)\n",
    "ax.set_title('Age vs Fare (by class) of Titanic Passengers', fontsize=20);"
   ]
  },
  {
   "cell_type": "markdown",
   "metadata": {},
   "source": [
    "### Figure 9. Scatter plot of Age vs Fare of Titanic Passengers (by Passenger Class)\n",
    "\n",
    "In this scatter plot, each point is colored by the passenger class and from the visuals, we can see that Class 3 passengers indeed pay less and Class 1 passengers pay more... But there are still some that pay more or less the same amount as the Class 3 passengers? "
   ]
  },
  {
   "cell_type": "code",
   "execution_count": null,
   "metadata": {},
   "outputs": [],
   "source": []
  }
 ],
 "metadata": {
  "kernelspec": {
   "display_name": "Python 3",
   "language": "python",
   "name": "python3"
  },
  "language_info": {
   "codemirror_mode": {
    "name": "ipython",
    "version": 3
   },
   "file_extension": ".py",
   "mimetype": "text/x-python",
   "name": "python",
   "nbconvert_exporter": "python",
   "pygments_lexer": "ipython3",
   "version": "3.8.5"
  }
 },
 "nbformat": 4,
 "nbformat_minor": 4
}
